{
  "cells": [
    {
      "cell_type": "markdown",
      "metadata": {
        "id": "view-in-github",
        "colab_type": "text"
      },
      "source": [
        "<a href=\"https://colab.research.google.com/github/dbuckman17/TIPC-Portfolio-Construction-Code/blob/main/Final_Documented_Code_to_Calculate_and_Append_Risk_and_Liquidity_Metrics.ipynb\" target=\"_parent\"><img src=\"https://colab.research.google.com/assets/colab-badge.svg\" alt=\"Open In Colab\"/></a>"
      ]
    },
    {
      "cell_type": "markdown",
      "id": "afcc5ee0",
      "metadata": {
        "id": "afcc5ee0"
      },
      "source": [
        "\n",
        "## Data Preparation\n",
        "\n",
        "The data preparation step involves setting up the loss data and filtering it to focus on negative losses, which represent downside risk.\n",
        "\n",
        "## How to Run:\n",
        "1. Upload your CSV file to Google Colab:\n",
        "   - Click on the \"Files\" tab on the left sidebar.\n",
        "   - Click the \"Upload\" button and select your CSV file.\n",
        "\n",
        "2. Update the file path in the `main` function:\n",
        "   - Replace `'your_file_path.csv'` in the `main('your_file_path.csv')` line with the path to your uploaded CSV file.\n",
        "   - For example, if you upload `fund_data.csv`, the line should be `main('/content/fund_data.csv')`.\n",
        "\n",
        "3. Run the Code:\n",
        "   - Click on the \"Runtime\" menu at the top.\n",
        "   - Select \"Run all\" to execute the entire script.\n",
        "\n",
        "4. Download the Output File:\n",
        "   - After the code has run, a new CSV file will be created with `_with_risk_metrics` appended to the filename. This sometimes takes a minute to show up.\n",
        "   - You can download this file by clicking on the \"Files\" tab, right-clicking on the new file, and selecting \"Download\".\n",
        "\n",
        "Note: Ensure that all necessary Python packages (e.g., pandas, numpy, scipy) are installed in your Colab environment. You can install them using:\n",
        "!pip install {pandas numpy scipy}\n",
        "\n",
        "\n",
        "### Detailed Steps:\n",
        "1. **Original Loss Data**:\n",
        "   ```python\n",
        "   loss_data = np.array([\n",
        "       0.0, -111.5, -20.7, -2.0, -1.5, -2.5, 0.0, 0.0, -22.0, -7.9, 0.0,\n",
        "       0.0, 0.0, 0.0, -15.0, 0.0, 0.0, 0.0, 0.0\n",
        "   ])\n",
        "   ```\n",
        "   - The loss data is provided as a numpy array containing both positive and negative values.\n",
        "   - We will focus on the negative values to analyze downside risk.\n",
        "\n",
        "2. **Filter Negative Loss Data**:\n",
        "   ```python\n",
        "   negative_loss_data = loss_data[loss_data < 0]\n",
        "   ```\n",
        "   - We filter the loss data to keep only negative values.\n",
        "   - These negative values represent losses that we are interested in for risk assessment.\n",
        "    "
      ]
    },
    {
      "cell_type": "code",
      "execution_count": null,
      "id": "9f41c953",
      "metadata": {
        "id": "9f41c953"
      },
      "outputs": [],
      "source": [
        "\n",
        "import numpy as np\n",
        "\n",
        "# Original loss data\n",
        "loss_data = np.array([\n",
        "    0.0, -111.5, -20.7, -2.0, -1.5, -2.5, 0.0, 0.0, -22.0, -7.9, 0.0,\n",
        "    0.0, 0.0, 0.0, -15.0, 0.0, 0.0, 0.0, 0.0\n",
        "])\n",
        "\n",
        "# Filter negative data\n",
        "negative_loss_data = loss_data[loss_data < 0]\n"
      ]
    },
    {
      "cell_type": "markdown",
      "id": "575580e8",
      "metadata": {
        "id": "575580e8"
      },
      "source": [
        "\n",
        "## t-Distribution Fitting\n",
        "\n",
        "The notebook calculates a t-distribution based on the negative loss data, assuming perfect correlation between assets for simplicity and conservatism.\n",
        "\n",
        "### Detailed Steps:\n",
        "1. **Calculate Distribution Parameters**:\n",
        "   - **Mean**:\n",
        "     ```python\n",
        "     mean = np.mean(negative_loss_data)\n",
        "     ```\n",
        "     - Calculate the mean of the negative loss data.\n",
        "   - **Standard Deviation**:\n",
        "     ```python\n",
        "     std_dev = np.std(negative_loss_data, ddof=1)\n",
        "     ```\n",
        "     - Calculate the sample standard deviation of the negative loss data.\n",
        "   - **Degrees of Freedom**:\n",
        "     ```python\n",
        "     df = len(negative_loss_data) - 1\n",
        "     ```\n",
        "     - Calculate the degrees of freedom based on the sample size.\n",
        "\n",
        "2. **Fit the t-Distribution**:\n",
        "   ```python\n",
        "   t_dist = t(df, loc=mean, scale=std_dev)\n",
        "   ```\n",
        "   - Fit the t-distribution using the calculated parameters.\n",
        "    "
      ]
    },
    {
      "cell_type": "code",
      "execution_count": null,
      "id": "5a0d974a",
      "metadata": {
        "id": "5a0d974a"
      },
      "outputs": [],
      "source": [
        "\n",
        "from scipy.stats import t\n",
        "\n",
        "# Calculate parameters\n",
        "mean = np.mean(negative_loss_data)\n",
        "std_dev = np.std(negative_loss_data, ddof=1)\n",
        "df = len(negative_loss_data) - 1\n",
        "\n",
        "# Generate the t-distribution\n",
        "t_dist = t(df, loc=mean, scale=std_dev)\n"
      ]
    },
    {
      "cell_type": "markdown",
      "id": "f86dd4c0",
      "metadata": {
        "id": "f86dd4c0"
      },
      "source": [
        "\n",
        "## Plotting the Distribution\n",
        "\n",
        "This section visualizes the fitted t-distribution over the histogram of the actual loss data, providing a visual comparison of the model fit.\n",
        "\n",
        "### Detailed Steps:\n",
        "1. **Plot the Histogram**:\n",
        "   ```python\n",
        "   plt.hist(negative_loss_data, bins=10, density=True, alpha=0.6, color='g', label='Loss Data Histogram')\n",
        "   ```\n",
        "   - Create a histogram of the negative loss data to visualize the distribution of losses.\n",
        "\n",
        "2. **Plot the t-Distribution**:\n",
        "   ```python\n",
        "   x = np.linspace(-111.5, 0, 1000)\n",
        "   pdf = t_dist.pdf(x)\n",
        "   plt.plot(x, pdf, 'r-', lw=2, label='Fitted t-Distribution')\n",
        "   ```\n",
        "   - Plot the probability density function (PDF) of the fitted t-distribution over the histogram.\n",
        "\n",
        "3. **Customize the Plot**:\n",
        "   ```python\n",
        "   plt.title('Fitted t-Distribution vs. Loss Data Histogram')\n",
        "   plt.xlabel('Loss')\n",
        "   plt.ylabel('Density')\n",
        "   plt.legend()\n",
        "   ```\n",
        "   - Add a title, labels, and a legend to the plot to make it more informative.\n",
        "\n",
        "4. **Display the Plot**:\n",
        "   ```python\n",
        "   plt.show()\n",
        "   ```\n",
        "   - Display the final plot.\n",
        "    "
      ]
    },
    {
      "cell_type": "code",
      "execution_count": null,
      "id": "f148eec5",
      "metadata": {
        "colab": {
          "base_uri": "https://localhost:8080/",
          "height": 419
        },
        "id": "f148eec5",
        "outputId": "5020b164-8bcf-4413-c86c-4cd65a406925"
      },
      "outputs": [
        {
          "output_type": "display_data",
          "data": {
            "text/plain": [
              "<Figure size 1000x600 with 1 Axes>"
            ],
            "image/png": "[encoded data removed]"
          },
          "metadata": {}
        }
      ],
      "source": [
        "\n",
        "import matplotlib.pyplot as plt\n",
        "\n",
        "# Plot the histogram of the loss data and overlay the t-distribution\n",
        "plt.figure(figsize=(10, 6))\n",
        "\n",
        "# Plot the histogram of the loss data\n",
        "plt.hist(negative_loss_data, bins=10, density=True, alpha=0.6, color='g', label='Loss Data Histogram')\n",
        "\n",
        "# Plot the t-distribution\n",
        "x = np.linspace(-111.5, 0, 1000)\n",
        "pdf = t_dist.pdf(x)\n",
        "plt.plot(x, pdf, 'r-', lw=2, label='Fitted t-Distribution')\n",
        "\n",
        "# Titles and labels\n",
        "plt.title('Fitted t-Distribution vs. Loss Data Histogram')\n",
        "plt.xlabel('Loss')\n",
        "plt.ylabel('Density')\n",
        "plt.legend()\n",
        "\n",
        "# Show the plot\n",
        "plt.show()\n"
      ]
    },
    {
      "cell_type": "markdown",
      "id": "85d4c573",
      "metadata": {
        "id": "85d4c573"
      },
      "source": [
        "\n",
        "## Generate CDF Table\n",
        "\n",
        "This section generates a table of cumulative distribution function (CDF) values for the fitted t-distribution, which helps in understanding the distribution of losses.\n",
        "\n",
        "### Detailed Steps:\n",
        "1. **Generate CDF Values**:\n",
        "   ```python\n",
        "   x_values = np.linspace(-111.5, 0, 100)\n",
        "   cdf_values = t_dist.cdf(x_values)\n",
        "   ```\n",
        "   - Calculate the CDF values of the fitted t-distribution for a range of loss values.\n",
        "\n",
        "2. **Create a DataFrame**:\n",
        "   ```python\n",
        "   cdf_table = pd.DataFrame({\n",
        "       'Value': x_values,\n",
        "       'CDF': cdf_values\n",
        "   })\n",
        "   ```\n",
        "   - Store the CDF values in a pandas DataFrame for easy viewing and manipulation.\n",
        "\n",
        "3. **Display the CDF Table**:\n",
        "   ```python\n",
        "   print(\"\n",
        "CDF Table:\")\n",
        "   print(cdf_table.head())\n",
        "   ```\n",
        "   - Print the first few rows of the CDF table to the console.\n",
        "    "
      ]
    },
    {
      "cell_type": "code",
      "execution_count": null,
      "id": "a152a2ff",
      "metadata": {
        "colab": {
          "base_uri": "https://localhost:8080/"
        },
        "id": "a152a2ff",
        "outputId": "f734bac9-c161-4d3f-e2a2-14b250f53902"
      },
      "outputs": [
        {
          "output_type": "stream",
          "name": "stdout",
          "text": [
            "\n",
            "CDF Table:\n",
            "        Value       CDF\n",
            "0 -111.500000  0.023345\n",
            "1 -110.373737  0.024420\n",
            "2 -109.247475  0.025546\n",
            "3 -108.121212  0.026725\n",
            "4 -106.994949  0.027960\n"
          ]
        }
      ],
      "source": [
        "\n",
        "import pandas as pd\n",
        "\n",
        "# Generate CDF Table for the Updated Student-t Distribution\n",
        "x_values = np.linspace(-111.5, 0, 100)\n",
        "cdf_values = t_dist.cdf(x_values)\n",
        "\n",
        "cdf_table = pd.DataFrame({\n",
        "    'Value': x_values,\n",
        "    'CDF': cdf_values\n",
        "})\n",
        "\n",
        "print(\"\\nCDF Table:\")\n",
        "print(cdf_table.head())\n"
      ]
    },
    {
      "cell_type": "markdown",
      "metadata": {
        "id": "fead7a79"
      },
      "source": [
        "\n",
        "## Risk Metrics Calculation\n",
        "\n",
        "The function `calculate_loss_percentiles_student_t` computes `1 in 10` and `1 in 100` loss metrics using the fitted t-distribution. These metrics are important for understanding potential extreme losses.\n",
        "\n",
        "### Detailed Steps:\n",
        "1. **Map Risk Levels to CDF Values**:\n",
        "   ```python\n",
        "   cdf_map_10 = {5: 0.10, 4: 0.30, 3: 0.50, 2: 0.70, 1: 0.90}\n",
        "   cdf_map_100 = {5: 0.01, 4: 0.21, 3: 0.41, 2: 0.61, 1: 0.81}\n",
        "   ```\n",
        "   - Define mappings from risk ratings (1-5) to cumulative distribution function (CDF) values for 1 in 10 and 1 in 100 losses.\n",
        "\n",
        "2. **Calculate Percentile Losses**:\n",
        "   ```python\n",
        "    loss_10 = max(min(t_dist.ppf(cdf_map_10[risk_rating])/100, 0), -1)\n",
        "    loss_100 = max(min(t_dist.ppf(cdf_map_100[risk_rating])/100, 0), -1)\n",
        "   ```\n",
        "   - Use the inverse CDF function (`ppf`) of the t-distribution to calculate the loss percentiles.\n",
        "   - Ensure that the calculated losses are bounded between -1 and 0, representing losses.\n",
        "\n",
        "3. **Inversion and Scaling**:\n",
        "   ```python\n",
        "   scaled_loss_10 = float(-loss_10)\n",
        "   scaled_loss_100 = float(-loss_100)\n",
        "   ```\n",
        "   - Convert the loss values to positive by multiplying by -1.    "
      ],
      "id": "fead7a79"
    },
    {
      "cell_type": "code",
      "execution_count": null,
      "metadata": {
        "id": "f12be0f0"
      },
      "outputs": [],
      "source": [
        "\n",
        "def calculate_loss_percentiles_student_t(risk_rating):\n",
        "    cdf_map_10 = {5: 0.10, 4: 0.30, 3: 0.50, 2: 0.70, 1: 0.90}\n",
        "    cdf_map_100 = {5: 0.01, 4: 0.21, 3: 0.41, 2: 0.61, 1: 0.81}\n",
        "\n",
        "    loss_10 = (min(t_dist.ppf(cdf_map_10[risk_rating])/100, 0))\n",
        "    loss_100 = (min(t_dist.ppf(cdf_map_100[risk_rating])/100, 0))\n",
        "\n",
        "    scaled_loss_10 = float(-loss_10)\n",
        "    scaled_loss_100 = float(-loss_100)\n",
        "\n",
        "    return scaled_loss_10, scaled_loss_100\n"
      ],
      "id": "f12be0f0"
    },
    {
      "cell_type": "markdown",
      "metadata": {
        "id": "bca781d6"
      },
      "source": [
        "\n",
        "## Drawdown Metrics Calculation and Display\n",
        "\n",
        "This code calculates drawdown metrics (`1 in 10 Loss` and `1 in 100 Loss`) for various risk levels using the `calculate_loss_percentiles_student_t` function. The results are stored and displayed in a table.\n",
        "\n",
        "### Assumption:\n",
        "- **Drawdown is Agnostic to Asset Class**: The drawdown calculations are independent of asset classes. If specific asset class considerations are needed, modifications should be made to the risk level analysis.\n"
      ],
      "id": "bca781d6"
    },
    {
      "cell_type": "markdown",
      "metadata": {
        "id": "6c77e81f"
      },
      "source": [
        "\n",
        "### Detailed Steps:\n",
        "\n",
        "1. **Define Risk Levels**:\n",
        "   ```python\n",
        "   risk_levels = [1, 2, 3, 4, 5]\n",
        "   ```\n",
        "   - We define a list of risk levels (from 1 to 5) to evaluate. Each risk level represents a different degree of risk exposure.\n"
      ],
      "id": "6c77e81f"
    },
    {
      "cell_type": "code",
      "execution_count": null,
      "metadata": {
        "id": "7f79e80a"
      },
      "outputs": [],
      "source": [
        "\n",
        "# Define Risk Levels\n",
        "risk_levels = [1, 2, 3, 4, 5]\n"
      ],
      "id": "7f79e80a"
    },
    {
      "cell_type": "markdown",
      "metadata": {
        "id": "d1276896"
      },
      "source": [
        "\n",
        "2. **Prepare Results List**:\n",
        "   ```python\n",
        "   results = []\n",
        "   ```\n",
        "   - We initialize an empty list named `results` to store the calculated drawdown metrics for each risk level.\n"
      ],
      "id": "d1276896"
    },
    {
      "cell_type": "code",
      "execution_count": null,
      "metadata": {
        "id": "dbc24bb2"
      },
      "outputs": [],
      "source": [
        "\n",
        "# Prepare Results List\n",
        "results = []\n"
      ],
      "id": "dbc24bb2"
    },
    {
      "cell_type": "markdown",
      "metadata": {
        "id": "c032c410"
      },
      "source": [
        "\n",
        "3. **Calculate Drawdown Metrics for Each Risk Level**:\n",
        "   ```python\n",
        "   for risk_level in risk_levels:\n",
        "       loss_10, loss_100 = calculate_loss_percentiles_student_t(risk_level)\n",
        "       results.append({\n",
        "           'Risk Level': risk_level,\n",
        "           '1 in 10 Loss': loss_10,\n",
        "           '1 in 100 Loss': loss_100\n",
        "       })\n",
        "   ```\n",
        "   - We loop through each risk level in `risk_levels`.\n",
        "   - For each `risk_level`, we use the `calculate_loss_percentiles_student_t` function to calculate the `1 in 10 Loss` and `1 in 100 Loss` metrics.\n",
        "   - The calculated metrics are stored in a dictionary and appended to the `results` list.\n"
      ],
      "id": "c032c410"
    },
    {
      "cell_type": "code",
      "execution_count": null,
      "metadata": {
        "id": "a1151ae8"
      },
      "outputs": [],
      "source": [
        "\n",
        "# Calculate Drawdown Metrics for Each Risk Level\n",
        "for risk_level in risk_levels:\n",
        "    loss_10, loss_100 = calculate_loss_percentiles_student_t(risk_level)\n",
        "    results.append({\n",
        "        'Risk Level': risk_level,\n",
        "        '1 in 10 Loss': loss_10,\n",
        "        '1 in 100 Loss': loss_100\n",
        "    })\n"
      ],
      "id": "a1151ae8"
    },
    {
      "cell_type": "markdown",
      "metadata": {
        "id": "f8c100a0"
      },
      "source": [
        "\n",
        "4. **Convert Results to DataFrame**:\n",
        "   ```python\n",
        "   loss_table = pd.DataFrame(results)\n",
        "   ```\n",
        "   - We convert the `results` list into a pandas DataFrame called `loss_table` for better readability and easier manipulation.\n"
      ],
      "id": "f8c100a0"
    },
    {
      "cell_type": "code",
      "execution_count": null,
      "metadata": {
        "id": "313a2af3"
      },
      "outputs": [],
      "source": [
        "\n",
        "# Convert Results to DataFrame\n",
        "loss_table = pd.DataFrame(results)\n"
      ],
      "id": "313a2af3"
    },
    {
      "cell_type": "markdown",
      "metadata": {
        "id": "38706d92"
      },
      "source": [
        "\n",
        "5. **Display the Results Table**:\n",
        "   ```python\n",
        "   print(loss_table)\n",
        "   ```\n",
        "   - Finally, we print the `loss_table` DataFrame to display the calculated drawdown metrics for each risk level.\n"
      ],
      "id": "38706d92"
    },
    {
      "cell_type": "code",
      "execution_count": null,
      "metadata": {
        "id": "c6e03e6a",
        "colab": {
          "base_uri": "https://localhost:8080/"
        },
        "outputId": "b69688e9-8aa5-4b02-b4ba-1c0d9e2884c9"
      },
      "outputs": [
        {
          "output_type": "stream",
          "name": "stdout",
          "text": [
            "   Risk Level  1 in 10 Loss  1 in 100 Loss\n",
            "0           1      0.000000       0.000000\n",
            "1           2      0.027077       0.122191\n",
            "2           3      0.228875       0.315698\n",
            "3           4      0.430673       0.543690\n",
            "4           5      0.748860       1.330623\n"
          ]
        }
      ],
      "source": [
        "\n",
        "# Display the Results Table. These values are net of base case assumptions.\n",
        "#However, we cap stressed losses at 0, so no assets return above principal in a stress.\n",
        "print(loss_table)\n"
      ],
      "id": "c6e03e6a"
    },
    {
      "cell_type": "markdown",
      "metadata": {
        "id": "1a36376a"
      },
      "source": [
        "\n",
        "## DataFrame Updates\n",
        "\n",
        "The `append_risk_metrics` function adds the calculated risk metrics to the DataFrame, enriching the data with valuable risk insights.\n",
        "\n",
        "### Detailed Steps:\n",
        "1. **Initialize Columns**:\n",
        "   ```python\n",
        "   fund_data['1 in 10 Loss'] = np.nan\n",
        "   fund_data['1 in 100 Loss'] = np.nan\n",
        "   ```\n",
        "   - Create two new columns in the DataFrame for `1 in 10 Loss` and `1 in 100 Loss`.\n",
        "   - These columns are initialized with NaN values.\n",
        "\n",
        "2. **Iterate Through Rows**:\n",
        "   ```python\n",
        "   for idx, row in fund_data.iterrows():\n",
        "       risk_level = int(row['Risk of loss'])\n",
        "       loss_10, loss_100 = calculate_loss_percentiles_student_t(risk_level)\n",
        "       fund_data.at[idx, '1 in 10 Loss'] = loss_10\n",
        "       fund_data.at[idx, '1 in 100 Loss'] = loss_100\n",
        "   ```\n",
        "   - For each row in the DataFrame, extract the risk rating and calculate the corresponding loss percentiles.\n",
        "   - Update the DataFrame with the calculated `1 in 10 Loss` and `1 in 100 Loss` values.\n",
        "    "
      ],
      "id": "1a36376a"
    },
    {
      "cell_type": "code",
      "execution_count": null,
      "metadata": {
        "id": "fdbc5dc8"
      },
      "outputs": [],
      "source": [
        "def append_risk_metrics(fund_data):\n",
        "    fund_data['1 in 10 Loss'] = np.nan\n",
        "    fund_data['1 in 100 Loss'] = np.nan\n",
        "\n",
        "    for idx, row in fund_data.iterrows():\n",
        "        risk_level = int(row['Risk of loss'])\n",
        "        loss_10, loss_100 = calculate_loss_percentiles_student_t(risk_level)\n",
        "\n",
        "        # **Subtract the Target net IRR (%) from loss_10 and loss_100 as all losses in data file are net of base IRR**\n",
        "        # Adjust the losses and ensure the values are within the range of 0 to -1\n",
        "        loss_10_adjusted = min(1, max(0, loss_10 - row['Target net IRR (%)']))\n",
        "        loss_100_adjusted = min(1, max(0, loss_100 - row['Target net IRR (%)']))\n",
        "\n",
        "        # **Store the adjusted values in the DataFrame**\n",
        "        fund_data.at[idx, '1 in 10 Loss'] = loss_10_adjusted\n",
        "        fund_data.at[idx, '1 in 100 Loss'] = loss_100_adjusted\n",
        "\n",
        "    return fund_data"
      ],
      "id": "fdbc5dc8"
    },
    {
      "cell_type": "markdown",
      "metadata": {
        "id": "fdbd89a6"
      },
      "source": [
        "\n",
        "## Main Function\n",
        "\n",
        "The `main` function orchestrates the workflow by loading the data, calculating risk metrics, and saving the updated results.\n",
        "\n",
        "### Detailed Steps:\n",
        "1. **Load Data**:\n",
        "   ```python\n",
        "   fund_data = pd.read_csv(file_path)\n",
        "   ```\n",
        "   - Load the fund data from the specified CSV file.\n",
        "\n",
        "2. **Calculate and Append Risk Metrics**:\n",
        "   ```python\n",
        "   updated_fund_data = append_risk_metrics(fund_data)\n",
        "   ```\n",
        "   - Use the `append_risk_metrics` function to calculate and append the risk metrics to the DataFrame.\n",
        "\n",
        "3. **Save Updated Data**:\n",
        "   ```python\n",
        "   output_file_path = file_path.replace('.csv', '_with_risk_metrics.csv')\n",
        "   updated_fund_data.to_csv(output_file_path, index=False)\n",
        "   ```\n",
        "   - Save the updated DataFrame to a new CSV file with `_with_risk_metrics` appended to the original filename.\n",
        "    "
      ],
      "id": "fdbd89a6"
    },
    {
      "cell_type": "code",
      "execution_count": null,
      "metadata": {
        "id": "4648b4a4",
        "colab": {
          "base_uri": "https://localhost:8080/"
        },
        "outputId": "3952fe28-f38b-4609-ada4-b4c3735daae2"
      },
      "outputs": [
        {
          "output_type": "stream",
          "name": "stdout",
          "text": [
            "File saved as: finalized_backend_fund_data_with_risk_metrics.csv\n"
          ]
        }
      ],
      "source": [
        "\n",
        "import pandas as pd\n",
        "\n",
        "def main(file_path):\n",
        "    try:\n",
        "        fund_data = pd.read_csv(file_path)\n",
        "        updated_fund_data = append_risk_metrics(fund_data)\n",
        "        output_file_path = file_path.replace('.csv', '_with_risk_metrics.csv')\n",
        "        updated_fund_data.to_csv(output_file_path, index=False)\n",
        "\n",
        "        print(f\"File saved as: {output_file_path}\")\n",
        "    except Exception as e:\n",
        "        print(f\"An error occurred: {e}\")\n",
        "\n",
        "if __name__ == \"__main__\":\n",
        "    main('finalized_backend_fund_data.csv')\n"
      ],
      "id": "4648b4a4"
    },
    {
      "cell_type": "code",
      "source": [],
      "metadata": {
        "id": "E2fdyBaR-l3B"
      },
      "id": "E2fdyBaR-l3B",
      "execution_count": null,
      "outputs": []
    }
  ],
  "metadata": {
    "colab": {
      "provenance": [],
      "include_colab_link": true
    },
    "language_info": {
      "name": "python"
    },
    "kernelspec": {
      "name": "python3",
      "display_name": "Python 3"
    }
  },
  "nbformat": 4,
  "nbformat_minor": 5
}